{
 "cells": [
  {
   "cell_type": "markdown",
   "metadata": {},
   "source": [
    "# 2-opt algorithm\n",
    "\n",
    "In optimization, 2-opt is a simple local search algorithm for solving the traveling salesman problem. The 2-opt algorithm was first proposed by Croes in 1958, although the basic move had already been suggested by Flood. The main idea behind it is to take a route that crosses over itself and reorder it so that it does not."
   ]
  },
  {
   "cell_type": "markdown",
   "metadata": {},
   "source": [
    "## Algorithm\n",
    "\n",
    "1. 随机选择一条路径，并设为最短路径；\n",
    "1. 随机选择在路线s中不相连两个节点，将两个节点之间的路径翻转过来获得新路径。\n",
    "1. 如果新路径比最短路径更短，则设新路径为最短路径，将计数器count置为0，返回步骤2，否则将计数器count加1，当count大于等于maxCount时，算法结束;\n",
    "\n",
    "## Step by step\n",
    "\n",
    "First, we import the python dependencies required for this section."
   ]
  },
  {
   "cell_type": "code",
   "execution_count": 1,
   "metadata": {},
   "outputs": [],
   "source": [
    "import numpy as np\n",
    "import random"
   ]
  },
  {
   "cell_type": "markdown",
   "metadata": {},
   "source": [
    "接下来我们定义一张旅行图，这张图中包含4个城市a、b、c和d，它们之间的距离使用距离矩阵表示\n",
    "\n",
    "|  | a  | b  | c  | d  |\n",
    "|--------|----|----|----|----|\n",
    "| a      | 0  | 20 | 15 | 35 |\n",
    "| b      | 20 | 0  | 10 | 25 |\n",
    "| c      | 15 | 10 | 0  | 12 |\n",
    "| d      | 35 | 25 | 12 | 0  |\n",
    "\n",
    "这个矩阵中的每一个元素代表对应行与列城市的距离。例如a和c之间的距离是15。注意，由于任意两点间的往返距离是相同的，所以该距离矩阵为对称矩阵。\n",
    "\n",
    "代码实现如下："
   ]
  },
  {
   "cell_type": "code",
   "execution_count": 2,
   "metadata": {},
   "outputs": [],
   "source": [
    "label = ['a', 'b', 'c', 'd']\n",
    "G = [\n",
    "    [0,20,15,35],\n",
    "    [20,0,10,25],\n",
    "    [15,10,0,12],\n",
    "    [35,25,12,0]\n",
    "]"
   ]
  },
  {
   "cell_type": "markdown",
   "metadata": {},
   "source": [
    "#### Step 1. 随机选择一条路线\n",
    "\n",
    "比方我们随机选中A->B->C->D->E->F->G，并假设是该路线为最短路线min"
   ]
  },
  {
   "cell_type": "code",
   "execution_count": 3,
   "metadata": {},
   "outputs": [],
   "source": [
    "def calPathDist(tour, G):\n",
    "    s = 0\n",
    "    for i in range(0, len(tour)-1):\n",
    "        s += G[tour[i]][tour[i+1]]\n",
    "    return s"
   ]
  },
  {
   "cell_type": "code",
   "execution_count": 4,
   "metadata": {},
   "outputs": [
    {
     "name": "stdout",
     "output_type": "stream",
     "text": [
      "Tour: ['b', 'a', 'c', 'd'], Distance: 47\n"
     ]
    }
   ],
   "source": [
    "best_tour = list(np.arange(0, len(label)))\n",
    "random.shuffle(best_tour)\n",
    "best_dist = calPathDist(best_tour, G)\n",
    "print(f'Tour: {list(map(lambda x:label[x], best_tour))}, Distance: {best_dist}')"
   ]
  },
  {
   "cell_type": "markdown",
   "metadata": {},
   "source": [
    "#### Step 2. 随机选择在路线s中不相连两个节点，将两个节点之间的路径翻转过来获得新路径\n",
    "\n",
    "比方我们随机选中了B节点和E节点，则新路径为A->(E->D->C->B)->F->G，()部分为被翻转的路径;"
   ]
  },
  {
   "cell_type": "code",
   "execution_count": 5,
   "metadata": {},
   "outputs": [
    {
     "name": "stdout",
     "output_type": "stream",
     "text": [
      "Best Tour: ['b', 'a', 'c', 'd'], repalce_tour: [1, 3, 2, 0]\n"
     ]
    }
   ],
   "source": [
    "def generateRandomPath(tour):\n",
    "    a = np.random.randint(len(tour))\n",
    "    while True:\n",
    "        b = np.random.randint(len(tour))\n",
    "        if np.abs(a - b) > 0:\n",
    "            break\n",
    "    if a > b:\n",
    "        a, b = b, a\n",
    "    re_tour = tour[:a] + tour[a:b+1][::-1] + tour[b+1:]\n",
    "    return a, b, re_tour\n",
    "\n",
    "node_a, node_b, repalce_tour = generateRandomPath(best_tour)\n",
    "\n",
    "print(f'Best Tour: {list(map(lambda x:label[x], best_tour))}, repalce_tour: {repalce_tour}')"
   ]
  },
  {
   "cell_type": "markdown",
   "metadata": {},
   "source": [
    "#### Step 3. 比较新路径和最短路径长度\n",
    "\n",
    "如果新路径比min路径短，则设新路径为最短路径min，将计数器count置为0，返回步骤2，否则将计数器count加1，当count大于等于maxCount时，算法结束，此时min即为最短路径，否则返回步骤2;"
   ]
  },
  {
   "cell_type": "code",
   "execution_count": 6,
   "metadata": {},
   "outputs": [
    {
     "name": "stdout",
     "output_type": "stream",
     "text": [
      "Best Tour: ['a', 'b', 'c', 'd'], Best Distance: 42\n"
     ]
    }
   ],
   "source": [
    "count = 0\n",
    "MAXCOUNT = 10\n",
    "while count < MAXCOUNT:\n",
    "    node_a, node_b, repalce_tour = generateRandomPath(best_tour)\n",
    "    repalce_dist = calPathDist(repalce_tour, G)\n",
    "    if repalce_dist < best_dist:\n",
    "        count = 0\n",
    "        best_tour = repalce_tour\n",
    "        best_dist = repalce_dist\n",
    "    else:\n",
    "        count += 1\n",
    "print(f'Best Tour: {list(map(lambda x:label[x], best_tour))}, Best Distance: {best_dist}')"
   ]
  },
  {
   "cell_type": "markdown",
   "metadata": {},
   "source": [
    "## Note\n",
    "\n",
    "A complete 2-opt local search will compare every possible valid combination of the swapping mechanism. This technique can be applied to the travelling salesman problem as well as many related problems. These include the vehicle routing problem (VRP) as well as the capacitated VRP, which require minor modification of the algorithm.\n",
    "\n",
    "You can find the implementation of the nearest neighbor algorithm in pyTSP from the following location:\n",
    "\n",
    "`pyTSP/source/algorithms/local_optimization.py`\n",
    "\n",
    "## Exercises\n",
    "\n",
    " - 这种方法找到路径一定是最短的么？通过代码验证你的想法。\n",
    " - 怎么把nearest neighbour algorithm和2-opt algorithm结合使用？通过代码试试看。"
   ]
  }
 ],
 "metadata": {
  "kernelspec": {
   "display_name": "Environment (conda_python3)",
   "language": "python",
   "name": "conda_python3"
  },
  "language_info": {
   "codemirror_mode": {
    "name": "ipython",
    "version": 3
   },
   "file_extension": ".py",
   "mimetype": "text/x-python",
   "name": "python",
   "nbconvert_exporter": "python",
   "pygments_lexer": "ipython3",
   "version": "3.6.10"
  }
 },
 "nbformat": 4,
 "nbformat_minor": 4
}
