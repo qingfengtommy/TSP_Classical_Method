{
 "cells": [
  {
   "cell_type": "markdown",
   "metadata": {},
   "source": [
    "# Brute-force algorithm\n",
    "\n",
    "In computer science, brute-force search or exhaustive search, also known as generate and test, is a very general problem-solving technique and algorithmic paradigm that consists of systematically enumerating all possible candidates for the solution and checking whether each candidate satisfies the problem's statement.\n",
    "\n",
    "The Brute Force approach, calculates and compares all possible permutations of routes or paths to determine the shortest unique solution. \n",
    "\n",
    "## Algorithm\n",
    "\n",
    "1. List all the possible routes.\n",
    "1. Calculate the distance of each route and then choose the shortest one—this is the optimal solution. \n",
    "\n",
    "## Step by step\n",
    "\n",
    "First, we import the python dependencies required for this section."
   ]
  },
  {
   "cell_type": "code",
   "execution_count": 1,
   "metadata": {},
   "outputs": [],
   "source": [
    "import numpy as np\n",
    "import itertools\n",
    "import time\n",
    "import random"
   ]
  },
  {
   "cell_type": "markdown",
   "metadata": {},
   "source": [
    "接下来我们定义一张旅行图，这张图中包含4个城市a、b、c和d，它们之间的距离使用距离矩阵表示\n",
    "\n",
    "|  | a  | b  | c  | d  |\n",
    "|--------|----|----|----|----|\n",
    "| a      | 0  | 20 | 15 | 35 |\n",
    "| b      | 20 | 0  | 10 | 25 |\n",
    "| c      | 15 | 10 | 0  | 12 |\n",
    "| d      | 35 | 25 | 12 | 0  |\n",
    "\n",
    "这个矩阵中的每一个元素代表对应行与列城市的距离。例如a和c之间的距离是15。注意，由于任意两点间的往返距离是相同的，所以该距离矩阵为对称矩阵。\n",
    "\n",
    "代码实现如下："
   ]
  },
  {
   "cell_type": "code",
   "execution_count": 2,
   "metadata": {},
   "outputs": [],
   "source": [
    "label = ['a', 'b', 'c', 'd']\n",
    "G = [\n",
    "    [0,20,15,35],\n",
    "    [20,0,10,25],\n",
    "    [15,10,0,12],\n",
    "    [35,25,12,0]\n",
    "]"
   ]
  },
  {
   "cell_type": "markdown",
   "metadata": {},
   "source": [
    "#### Step 1. List all the possible routes.\n",
    "\n",
    "我们定义一个函数，输入城市的列表和对称矩阵，返回所有可能的路径："
   ]
  },
  {
   "cell_type": "code",
   "execution_count": 3,
   "metadata": {},
   "outputs": [],
   "source": [
    "def get_all_routes(G, label):\n",
    "    permutations = list(itertools.permutations(list(range(len(label))), len(label)))\n",
    "    all_routes = []\n",
    "    for row in permutations:\n",
    "        flag = True\n",
    "        for i in range(len(row)-1):\n",
    "            if G[row[i]][row[i+1]] <= 0:\n",
    "                flag = False\n",
    "        if flag:\n",
    "            all_routes.append(row)\n",
    "    return all_routes\n",
    "all_routes = get_all_routes(G, label)"
   ]
  },
  {
   "cell_type": "code",
   "execution_count": 4,
   "metadata": {},
   "outputs": [
    {
     "name": "stdout",
     "output_type": "stream",
     "text": [
      "routes num: 24\n"
     ]
    }
   ],
   "source": [
    "print(f'routes num: {len(all_routes)}')"
   ]
  },
  {
   "cell_type": "markdown",
   "metadata": {},
   "source": [
    "#### Step 2. Calculate the distance of each route and then choose the shortest one. \n",
    "\n",
    "我们定义一个函数，可以计算一条路径的长度。"
   ]
  },
  {
   "cell_type": "code",
   "execution_count": 5,
   "metadata": {},
   "outputs": [],
   "source": [
    "def calPathDist(tour, G):\n",
    "    s = 0\n",
    "    for i in range(0, len(tour)-1):\n",
    "        s += G[tour[i]][tour[i+1]]\n",
    "    return s"
   ]
  },
  {
   "cell_type": "markdown",
   "metadata": {},
   "source": [
    "Next, we calculate the distance of each route and then choose the shortest one. "
   ]
  },
  {
   "cell_type": "code",
   "execution_count": 6,
   "metadata": {},
   "outputs": [
    {
     "name": "stdout",
     "output_type": "stream",
     "text": [
      "Best Tour: ['a', 'b', 'c', 'd'], Best Distance: 42, cpu time: 0.0002760887145996094\n"
     ]
    }
   ],
   "source": [
    "start_time = time.time()\n",
    "best_dist = 10000003\n",
    "for tour in all_routes:\n",
    "    current_dist = calPathDist(tour, G)\n",
    "    if current_dist < best_dist:\n",
    "        best_dist = current_dist\n",
    "        best_tour = tour\n",
    "print(f'Best Tour: {list(map(lambda x:label[x], best_tour))}, Best Distance: {best_dist}, cpu time: {time.time()-start_time}')"
   ]
  },
  {
   "cell_type": "markdown",
   "metadata": {},
   "source": [
    "## Exercises\n",
    "\n",
    " - 如果我们有更多的城市呢？运行时间会增大多少？\n",
    "\n",
    "通过下面的代码验证你的想法。\n",
    "\n",
    "现在我们定义一个函数，可以生成更大的城市图。"
   ]
  },
  {
   "cell_type": "code",
   "execution_count": 7,
   "metadata": {},
   "outputs": [],
   "source": [
    "def generate_graph(city_num):\n",
    "    labels = list(range(city_num))\n",
    "    pairs = itertools.combinations(labels, 2)\n",
    "    G = [[0] * city_num for _ in range(city_num)]\n",
    "    for p in pairs:\n",
    "        dist = random.randint(0, 2*city_num)\n",
    "        G[p[0]][p[1]] = dist\n",
    "        G[p[1]][p[0]] = dist\n",
    "    return labels, G"
   ]
  },
  {
   "cell_type": "markdown",
   "metadata": {},
   "source": [
    "现在我们将city_num设置为10，生成新的城市图"
   ]
  },
  {
   "cell_type": "code",
   "execution_count": 8,
   "metadata": {},
   "outputs": [],
   "source": [
    "label, G = generate_graph(10)"
   ]
  },
  {
   "cell_type": "markdown",
   "metadata": {},
   "source": [
    "然后我们计算所有可能的路径。"
   ]
  },
  {
   "cell_type": "code",
   "execution_count": 9,
   "metadata": {},
   "outputs": [
    {
     "name": "stdout",
     "output_type": "stream",
     "text": [
      "cpu time: 4.7613983154296875, routes num: 2903040\n"
     ]
    }
   ],
   "source": [
    "start_time = time.time()\n",
    "all_routes = get_all_routes(G, label)\n",
    "print(f'cpu time: {time.time()-start_time}, routes num: {len(all_routes)}')"
   ]
  },
  {
   "cell_type": "markdown",
   "metadata": {},
   "source": [
    "从上面的输出结果看，即使仅把城市从4个增加到10个，可行的路径数已经增大了几个数量级。"
   ]
  },
  {
   "cell_type": "code",
   "execution_count": 10,
   "metadata": {},
   "outputs": [
    {
     "name": "stdout",
     "output_type": "stream",
     "text": [
      "Best Tour: [5, 4, 1, 0, 3, 2, 7, 8, 9, 6], Best Distance: 34, cpu time: 3.5680770874023438\n"
     ]
    }
   ],
   "source": [
    "start_time = time.time()\n",
    "best_dist = 10000003\n",
    "for tour in all_routes:\n",
    "    current_dist = calPathDist(tour, G)\n",
    "    if current_dist < best_dist:\n",
    "        best_dist = current_dist\n",
    "        best_tour = tour\n",
    "print(f'Best Tour: {list(map(lambda x:label[x], best_tour))}, Best Distance: {best_dist}, cpu time: {time.time()-start_time}')"
   ]
  },
  {
   "cell_type": "markdown",
   "metadata": {},
   "source": [
    "在城市数增加的情况下，运行时间会指数级上升，这不是一个现实中可行的方案！"
   ]
  }
 ],
 "metadata": {
  "kernelspec": {
   "display_name": "Environment (conda_python3)",
   "language": "python",
   "name": "conda_python3"
  },
  "language_info": {
   "codemirror_mode": {
    "name": "ipython",
    "version": 3
   },
   "file_extension": ".py",
   "mimetype": "text/x-python",
   "name": "python",
   "nbconvert_exporter": "python",
   "pygments_lexer": "ipython3",
   "version": "3.6.10"
  }
 },
 "nbformat": 4,
 "nbformat_minor": 4
}
